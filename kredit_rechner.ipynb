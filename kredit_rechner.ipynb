{
 "cells": [
  {
   "cell_type": "code",
   "execution_count": 26,
   "id": "86682b0b",
   "metadata": {
    "scrolled": true
   },
   "outputs": [
    {
     "data": {
      "application/vnd.jupyter.widget-view+json": {
       "model_id": "d69e9572d92b41a598dca819d30cc742",
       "version_major": 2,
       "version_minor": 0
      },
      "text/plain": [
       "interactive(children=(IntSlider(value=35, description='t', max=70), Output()), _dom_classes=('widget-interact'…"
      ]
     },
     "metadata": {},
     "output_type": "display_data"
    },
    {
     "data": {
      "text/plain": [
       "<function __main__.calc(t)>"
      ]
     },
     "execution_count": 26,
     "metadata": {},
     "output_type": "execute_result"
    }
   ],
   "source": [
    "import numpy as np\n",
    "import matplotlib.pyplot as plt\n",
    "from __future__ import print_function\n",
    "from ipywidgets import interact, interactive, fixed, interact_manual\n",
    "import ipywidgets as widgets\n",
    "\n",
    "# Startkapital\n",
    "K_start = 250000\n",
    "\n",
    "# Laufzeit\n",
    "t = 34\n",
    "\n",
    "# Zinsaufschlag im Kreditvertrag in %\n",
    "auf = 0.95\n",
    "\n",
    "# Euribor in %\n",
    "p_euribor = [-0.5, 1.6, 3]+[5,5,5,5,5]+[4,4,4]+[3,3,3,3,3]+[1,1,1,1] # Catherines Annahme\n",
    "p_euribor = [-0.5, 1.6, 3]+[3,3]+[2,2]\n",
    "\n",
    "# auf Laufzeit auffüllen\n",
    "p_euribor = p_euribor + list(np.ones(t+100)*1)\n",
    "p_euribor = np.array(p_euribor)/100\n",
    "\n",
    "\n",
    "def calc(t):\n",
    "    global K, a_vec, K_vec, i_vec, p_soll\n",
    "    \n",
    "    # Formel für jährliche Annuität (Tilgungsrate)\n",
    "    #a = K*(1+p)**t*p/((1+p)**t-1)\n",
    "    \n",
    "    i_vec = np.arange(1,t+1)\n",
    "  \n",
    "    K = K_start\n",
    "    p_soll = p_euribor+auf/100\n",
    "    p_soll = p_soll[0:len(i_vec)]\n",
    "    a_vec = []\n",
    "    K_vec = []\n",
    "    Z_ges = 0\n",
    "    for i,p in enumerate(p_soll):\n",
    "        # jährliche Annuität a_vec\n",
    "        a_vec.append(K * (1 + p) ** (t-i) * p / ((1 + p) ** (t-i) - 1))\n",
    "        # Neue Kreditschuld K\n",
    "        Z_ges = Z_ges+K*p\n",
    "        K = K+K*p-a_vec[-1]\n",
    "        K_vec.append(K)\n",
    "        #print('Jahr ',i)\n",
    "        #print('Monatliche Rate: ', a_vec[-1] / 12)\n",
    "        #print('Kreditschuld Jahr ',i+1,': ',round(K))\n",
    "\n",
    "        \n",
    "    fig,ax1 = plt.subplots()\n",
    "    ax2 = ax1.twinx()\n",
    "\n",
    "    ax1.set_xlabel('Jahr')\n",
    "    \n",
    "    print('Gesamte Zinsen: ',Z_ges,' €')\n",
    "\n",
    "    ax1.plot(i_vec,p_euribor[0:len(i_vec)]*100,'g')\n",
    "    ax2.plot(i_vec,np.array(a_vec)/12,'r')\n",
    "    ax1.set_ylabel('Euribor(3-monat) / %',color='g')\n",
    "    ax2.set_ylabel('Monatliche Rate',color='r')\n",
    "    ax2.set_ylim(0,max(np.array(a_vec)/12)*1.1)\n",
    "    plt.show()\n",
    "\n",
    "\n",
    "interact(calc, t=(0,70,1))"
   ]
  },
  {
   "cell_type": "code",
   "execution_count": null,
   "id": "87c66325",
   "metadata": {},
   "outputs": [],
   "source": []
  }
 ],
 "metadata": {
  "kernelspec": {
   "display_name": "Python 3 (ipykernel)",
   "language": "python",
   "name": "python3"
  },
  "language_info": {
   "codemirror_mode": {
    "name": "ipython",
    "version": 3
   },
   "file_extension": ".py",
   "mimetype": "text/x-python",
   "name": "python",
   "nbconvert_exporter": "python",
   "pygments_lexer": "ipython3",
   "version": "3.8.10"
  }
 },
 "nbformat": 4,
 "nbformat_minor": 5
}
